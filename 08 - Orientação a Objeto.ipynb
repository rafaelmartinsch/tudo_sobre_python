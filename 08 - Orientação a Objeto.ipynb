{
 "cells": [
  {
   "cell_type": "markdown",
   "id": "78cb34dd-a1c8-4606-9c43-a8886244f49e",
   "metadata": {},
   "source": [
    "### Classes, objetos, atributos e construtores"
   ]
  },
  {
   "cell_type": "markdown",
   "id": "9fbc2cb4-64b7-4141-8912-42a0215d8d1e",
   "metadata": {},
   "source": [
    "**Classe** são representação de um objeto ou ação de um sistema, ex: Pessoa, Produto\n",
    "**Objeto** é qunando uma classe é instânciada e recebe valores referente ao objeto que está sendo armazendado, Ex: Nome:Joao, Idade: 36...\n",
    "**Atributos** são as carateristicas mapeadas pela classe, são variaveis, ex: nome, idade\n",
    "**Construtores** é uma função padrão da classe que recebe como parametro os valores que serão atribuídos para os atributos da classe. "
   ]
  },
  {
   "cell_type": "code",
   "execution_count": 1,
   "id": "66742f22-81e8-4bd1-88de-53f86539f0da",
   "metadata": {},
   "outputs": [],
   "source": [
    "#declarando uma classe, criar um arquivo para cada classe\n",
    "class Aluno:\n",
    "    def __init__(self, nome, matricula, idade): #metodo costrutor, serve para instanciar um objeto passando os valores para os atributos\n",
    "        #atributos\n",
    "        self.nome=nome\n",
    "        self.matricula=matricula\n",
    "        self.idade=idade"
   ]
  },
  {
   "cell_type": "markdown",
   "id": "394c03e7-5e67-40bc-91a1-2bfd498aa6e5",
   "metadata": {},
   "source": [
    "Para importar uma classe no arquivo principal:\n",
    "> from Aluno import Aluno"
   ]
  },
  {
   "cell_type": "code",
   "execution_count": 2,
   "id": "b804f00b-e6a0-4684-bed3-a564585f15ed",
   "metadata": {},
   "outputs": [
    {
     "name": "stdout",
     "output_type": "stream",
     "text": [
      "João Dev\n",
      "00192\n"
     ]
    }
   ],
   "source": [
    "#from Aluno import Aluno\n",
    "#imprimindo atributos do objeto\n",
    "aluno1 =  Aluno(nome=\"João Dev\", matricula=\"00192\", idade=16)\n",
    "print(aluno1.nome)\n",
    "print(aluno1.matricula)"
   ]
  },
  {
   "cell_type": "markdown",
   "id": "f4dff883-5264-48d2-8f5c-837982c2d437",
   "metadata": {},
   "source": [
    "### Metodos"
   ]
  },
  {
   "cell_type": "markdown",
   "id": "17a8e364-6d7e-482a-93c0-076bac15418b",
   "metadata": {},
   "source": [
    "Metodos são funções dentro da classe que realizam operações ou ações com os dados do objeto ex:  atualizar(), enviar_email() exibir_informacoes"
   ]
  },
  {
   "cell_type": "code",
   "execution_count": 65,
   "id": "14db06ab-4979-47ed-b6ad-10c63e3fb6fb",
   "metadata": {},
   "outputs": [],
   "source": [
    "class Professor:\n",
    "    def __init__(self, nome, materias):\n",
    "        self.nome=nome\n",
    "        self.disciplinas=materias\n",
    "\n",
    "    #verifica a disponibilidade de disciplinas de um professor, ele nõa pode ter mais que 3 \n",
    "    def verificaDisponibilidade(self):\n",
    "        if len(self.disciplinas)>=3:\n",
    "            return False;\n",
    "        return True;"
   ]
  },
  {
   "cell_type": "code",
   "execution_count": 63,
   "id": "ff19a975-fead-48d6-9d5e-ece4f3eab4e2",
   "metadata": {},
   "outputs": [
    {
     "name": "stdout",
     "output_type": "stream",
     "text": [
      "['Algoritmos', 'Lógica', 'POO']\n"
     ]
    },
    {
     "data": {
      "text/plain": [
       "False"
      ]
     },
     "execution_count": 63,
     "metadata": {},
     "output_type": "execute_result"
    }
   ],
   "source": [
    "professor1 = Professor(nome=\"Rafael\", materias=[\"Algoritmos\", \"Lógica\", \"POO\"])\n",
    "print(professor1.disciplinas)\n",
    "professor1.verificaDisponibilidade()"
   ]
  },
  {
   "cell_type": "markdown",
   "id": "6b8ee438-ae62-4f81-9049-80be6bd563f9",
   "metadata": {},
   "source": [
    "### Listas de Objetos\n",
    "Criação de listas de objetos"
   ]
  },
  {
   "cell_type": "code",
   "execution_count": 39,
   "id": "154f1e0a-d61b-4287-aebe-ed94e576b0fe",
   "metadata": {},
   "outputs": [],
   "source": [
    "aluno2 = Aluno(nome=\"Mateus Tester\", matricula=\"00198\", idade=18)\n",
    "alunos =  [aluno1, aluno2]"
   ]
  },
  {
   "cell_type": "code",
   "execution_count": 40,
   "id": "cc0409cf-dfce-44f1-9f6e-a6017bd91169",
   "metadata": {},
   "outputs": [
    {
     "name": "stdout",
     "output_type": "stream",
     "text": [
      "João Dev\n",
      "Mateus Tester\n"
     ]
    }
   ],
   "source": [
    "print(alunos[0].nome)\n",
    "print(alunos[1].nome)"
   ]
  },
  {
   "cell_type": "markdown",
   "id": "7e088115-8703-40f9-a137-041db1491d73",
   "metadata": {},
   "source": [
    "Ou podemos iterar a lista com um for"
   ]
  },
  {
   "cell_type": "code",
   "execution_count": 41,
   "id": "7bb760f8-6dc8-43e2-938b-4f68fa8eae55",
   "metadata": {},
   "outputs": [
    {
     "name": "stdout",
     "output_type": "stream",
     "text": [
      "João Dev\n",
      "00192\n",
      "Mateus Tester\n",
      "00198\n"
     ]
    }
   ],
   "source": [
    "for aluno in alunos:\n",
    "    print(aluno.nome)\n",
    "    print(aluno.matricula)"
   ]
  },
  {
   "cell_type": "markdown",
   "id": "34ac729d-739c-4095-982b-a179530da808",
   "metadata": {},
   "source": [
    "### Encapsulamento\n",
    "\n"
   ]
  },
  {
   "cell_type": "markdown",
   "id": "5fceb24b-bae6-436c-8850-625e6f701930",
   "metadata": {},
   "source": [
    "Ao encapsular atributos de uma classe como privados, evitamos que esses dados sejam modificados inadvertidamente ou acessados de maneira incorreta. Isso ajuda a garantir a integridade dos dados e a manter a consistência do programa.   \n",
    "**publico (public)**: Pode ser acessado de qualquer lugar.  \n",
    "**_protegido (protected)**: Em outras linguegem como o Java  o atributo deve ser acessado apenas dentro da classe e em subclasses, mas a convenção em Python não impede o acesso.  \n",
    "**__privado (private)**: Deve ser acessado apenas dentro da própria classe.  \n",
    "  \n",
    "Por que usar encapsulamento?\n",
    "* **Proteção dos Dados**: Impede que dados internos do objeto sejam modificados diretamente por outras partes do código, prevenindo inconsistências.\n",
    "* **Manutenção e Flexibilidade**: Facilita a manutenção do código, permitindo que a implementação interna de uma classe seja alterada sem impactar o código que usa essa classe.\n",
    "* **Controle sobre o Acesso**: Permite o controle sobre como os dados são acessados ou modificados, aplicando validações ou regras antes de alterar os valores."
   ]
  },
  {
   "cell_type": "code",
   "execution_count": 54,
   "id": "9bdd1886-318a-4005-a5cb-7df94d836026",
   "metadata": {},
   "outputs": [],
   "source": [
    "class Usuario:\n",
    "    def __init__(self, nome, idade):\n",
    "        self.nome = nome  # Atributo protegido (convenção, não é realmente privado)\n",
    "        self.__idade = idade  # Atributo protegido\n",
    "\n",
    "    def mostraIdade(self): # um metodo pode ter acesso a informação\n",
    "        print(self.__idade)\n",
    "\n",
    "    def __acrescentaIdade(self):\n",
    "        _idade+=1"
   ]
  },
  {
   "cell_type": "code",
   "execution_count": 55,
   "id": "9b540d7c-1987-4114-aa58-cc6e7d53e572",
   "metadata": {},
   "outputs": [
    {
     "data": {
      "text/plain": [
       "'João Dev'"
      ]
     },
     "execution_count": 55,
     "metadata": {},
     "output_type": "execute_result"
    }
   ],
   "source": [
    "pessoa = Usuario(\"João Dev\", 28)\n",
    "pessoa.nome"
   ]
  },
  {
   "cell_type": "code",
   "execution_count": 56,
   "id": "d73942ec-714d-46f3-9925-7a0cbdb7ce0f",
   "metadata": {},
   "outputs": [
    {
     "ename": "AttributeError",
     "evalue": "'Usuario' object has no attribute '__idade'",
     "output_type": "error",
     "traceback": [
      "\u001b[1;31m---------------------------------------------------------------------------\u001b[0m",
      "\u001b[1;31mAttributeError\u001b[0m                            Traceback (most recent call last)",
      "Cell \u001b[1;32mIn[56], line 1\u001b[0m\n\u001b[1;32m----> 1\u001b[0m \u001b[43mpessoa\u001b[49m\u001b[38;5;241;43m.\u001b[39;49m\u001b[43m__idade\u001b[49m\n",
      "\u001b[1;31mAttributeError\u001b[0m: 'Usuario' object has no attribute '__idade'"
     ]
    }
   ],
   "source": [
    "pessoa.__idade"
   ]
  },
  {
   "cell_type": "code",
   "execution_count": 57,
   "id": "dd08456b-5abc-4a96-be78-54e0cdee8c33",
   "metadata": {},
   "outputs": [
    {
     "name": "stdout",
     "output_type": "stream",
     "text": [
      "28\n"
     ]
    }
   ],
   "source": [
    "pessoa.mostraIdade()"
   ]
  },
  {
   "cell_type": "code",
   "execution_count": 58,
   "id": "1e52a2c0-1421-4750-b4cc-65bb61b29888",
   "metadata": {},
   "outputs": [
    {
     "ename": "AttributeError",
     "evalue": "'Usuario' object has no attribute '__acrescentaIdade'",
     "output_type": "error",
     "traceback": [
      "\u001b[1;31m---------------------------------------------------------------------------\u001b[0m",
      "\u001b[1;31mAttributeError\u001b[0m                            Traceback (most recent call last)",
      "Cell \u001b[1;32mIn[58], line 1\u001b[0m\n\u001b[1;32m----> 1\u001b[0m \u001b[43mpessoa\u001b[49m\u001b[38;5;241;43m.\u001b[39;49m\u001b[43m__acrescentaIdade\u001b[49m()\n",
      "\u001b[1;31mAttributeError\u001b[0m: 'Usuario' object has no attribute '__acrescentaIdade'"
     ]
    }
   ],
   "source": [
    "pessoa.__acrescentaIdade()"
   ]
  },
  {
   "cell_type": "markdown",
   "id": "4b212df4-0a36-4b5a-9306-0b8e98d41a87",
   "metadata": {},
   "source": [
    "**Getters and Setters**   \n",
    "Getters e Setters são métodos usados para acessar e modificar os atributos privados de uma classe. Eles são uma forma de aplicar o encapsulamento, pois permitem que você controle como os atributos de uma classe são acessados e alterados."
   ]
  },
  {
   "cell_type": "code",
   "execution_count": 60,
   "id": "6c4edb04-bdb7-4a62-a2d2-e9b1d603c97c",
   "metadata": {},
   "outputs": [],
   "source": [
    "class ContaBancaria:\n",
    "    def __init__(self, titular, saldo=0):\n",
    "        self._titular = titular   # Atributo protegido para o titular\n",
    "        self._saldo = saldo       # Atributo protegido para o saldo\n",
    "\n",
    "    # Getter para o saldo\n",
    "    def get_saldo(self):\n",
    "        return self._saldo\n",
    "\n",
    "    # Setter para o saldo com validação\n",
    "    def set_saldo(self, valor):\n",
    "        if valor >= 0:\n",
    "            self._saldo = valor\n",
    "        else:\n",
    "            print(\"O saldo não pode ser menor que zero\")"
   ]
  },
  {
   "cell_type": "markdown",
   "id": "f11ee62e-7daf-4d4e-b95f-a254ae4d1174",
   "metadata": {},
   "source": [
    "### Herança"
   ]
  },
  {
   "cell_type": "markdown",
   "id": "0027b93d-8e17-4023-aa7b-a07939ab48f6",
   "metadata": {},
   "source": [
    "Ela permite que uma classe (chamada de subclasse ou classe derivada) herde atributos e métodos de outra classe (chamada de superclasse ou classe base).   \n",
    "Isso promove a reutilização de código e facilita a criação de uma estrutura hierárquica de classes.\n",
    "\n",
    "Benefícios da Herança:\n",
    "* **Reutilização de Código**: Você pode reutilizar atributos e métodos comuns entre classes relacionadas.\n",
    "* **Extensibilidade**: É fácil adicionar ou modificar funcionalidades em subclasses sem alterar a superclasse.\n",
    "* **Organização**: Facilita a organização e estruturação do código em hierarquias lógicas."
   ]
  },
  {
   "cell_type": "markdown",
   "id": "1c32626a-7cac-4d50-b3ea-2ca2a8b33fc4",
   "metadata": {},
   "source": [
    "Vamos criar uma classe base chamada Veiculo e depois duas subclasses chamadas Carro e Moto que herdam de Veiculo"
   ]
  },
  {
   "cell_type": "code",
   "execution_count": 25,
   "id": "c9e949e4-cfef-4063-a5e1-c237f22e4e46",
   "metadata": {},
   "outputs": [],
   "source": [
    "#classe pai ou superclasse\n",
    "class Veiculo:\n",
    "    def __init__(self, marca, modelo):\n",
    "        self.marca = marca\n",
    "        self.modelo = modelo\n",
    "\n",
    "    def descrever(self):\n",
    "        return f\"Veiculo {self.marca} {self.modelo}\"\n",
    "\n",
    "    def descreverMarca(self):\n",
    "        return f'A marca do veiculo é {self.marca}'"
   ]
  },
  {
   "cell_type": "code",
   "execution_count": 26,
   "id": "b8929198-4fa7-4e01-966b-8e44e6124ad1",
   "metadata": {},
   "outputs": [],
   "source": [
    "# Subclasse Carro herdando de Veiculo\n",
    "class Carro(Veiculo):\n",
    "    def __init__(self, marca, modelo, numero_portas):\n",
    "        super().__init__(marca, modelo)  # Chama o construtor da superclasse\n",
    "        self.numero_portas = numero_portas\n",
    "\n",
    "    def descrever(self):\n",
    "        return f\"Carro {self.marca} {self.modelo}, com {self.numero_portas} portas\"\n"
   ]
  },
  {
   "cell_type": "code",
   "execution_count": 27,
   "id": "85f917f2-3fea-47ed-b9ce-c8285b55456e",
   "metadata": {},
   "outputs": [],
   "source": [
    "# Subclasse Moto herdando de Veiculo\n",
    "class Moto(Veiculo):\n",
    "    def __init__(self, marca, modelo, cilindrada):\n",
    "        super().__init__(marca, modelo)  # Chama o construtor da superclasse\n",
    "        self.cilindrada = cilindrada\n",
    "\n",
    "    def descrever(self):\n",
    "        return f\"Moto {self.marca} {self.modelo}, com {self.cilindrada} Cilindradas\"\n"
   ]
  },
  {
   "cell_type": "markdown",
   "id": "82593403-a0ac-4e59-a14a-f0ab74beedff",
   "metadata": {},
   "source": [
    "Os atributos e metodos da superclasse ficam acessiveis para o objeto da subclasse criado. "
   ]
  },
  {
   "cell_type": "code",
   "execution_count": 28,
   "id": "4c0949f7-3f21-4dd6-871f-73bf4e13f329",
   "metadata": {},
   "outputs": [
    {
     "name": "stdout",
     "output_type": "stream",
     "text": [
      "Carro Toyota Corolla, com 4 portas\n",
      "Moto Honda CB500, com 125 Cilindradas\n",
      "A marca do veiculo é Toyota\n"
     ]
    }
   ],
   "source": [
    "# Criando instâncias das subclasses\n",
    "meu_carro = Carro(\"Toyota\", \"Corolla\", 4)\n",
    "minha_moto = Moto(\"Honda\", \"CB500\", \"125\")\n",
    "\n",
    "print(meu_carro.descrever()) \n",
    "print(minha_moto.descrever())\n",
    "\n",
    "print(meu_carro.descreverMarca())\n"
   ]
  },
  {
   "cell_type": "markdown",
   "id": "901b163e-7c95-4697-bbae-1fb7669d4a3f",
   "metadata": {},
   "source": [
    "### Polimorfismo"
   ]
  },
  {
   "cell_type": "markdown",
   "id": "f33897d5-4138-4952-a818-c3bb235802cd",
   "metadata": {},
   "source": [
    "Polimorfismo, em Python, é a capacidade que uma subclasse tem de ter métodos com o mesmo nome de sua superclasse, e o programa saber qual método deve ser invocado, especificamente (da super ou sub).\n",
    "\n",
    "Ou seja, o objeto tem a capacidade de assumir diferentes formas (polimorfismo)."
   ]
  },
  {
   "cell_type": "code",
   "execution_count": 31,
   "id": "1210bb52-b29a-470f-9991-e1aef732b0f7",
   "metadata": {},
   "outputs": [
    {
     "name": "stdout",
     "output_type": "stream",
     "text": [
      "Carro Toyota Corolla, com 4 portas\n",
      "Moto Honda CB500, com 125 Cilindradas\n",
      "Veiculo Xiaomi Mi Scooter 3\n"
     ]
    }
   ],
   "source": [
    "\n",
    "meu_carro = Carro(\"Toyota\", \"Corolla\", 4)\n",
    "minha_moto = Moto(\"Honda\", \"CB500\", \"125\")\n",
    "meu_veiculo = Veiculo(\"Xiaomi\", \"Mi Scooter 3\")\n",
    "\n",
    "print(meu_carro.descrever()) \n",
    "print(minha_moto.descrever())\n",
    "print(meu_veiculo.descrever())"
   ]
  },
  {
   "cell_type": "markdown",
   "id": "2a93fed5-b347-4d73-8409-12c568b41303",
   "metadata": {},
   "source": [
    "Veja que foi criado dois objetos utilizando as subclasses Carro e Moto, e quando chamamo o metodo descrever foi utilizado os metodos das subclasse foram chamados. Mas também é possível criar um objeto da subclasse e quando chamado o descrever o metodo da super classe foi chamado. Desse forma o objeto pode assumir diferente formas e poderia ser utilizado em uma função de imprimir veiculo onde essa função não precisa saber se é uma moto, carro ou nehum. "
   ]
  },
  {
   "cell_type": "code",
   "execution_count": 32,
   "id": "97dfdd5c-0c52-453e-b302-c651fff65dc4",
   "metadata": {},
   "outputs": [
    {
     "name": "stdout",
     "output_type": "stream",
     "text": [
      "Carro Toyota Corolla, com 4 portas\n",
      "Moto Honda CB500, com 125 Cilindradas\n",
      "Veiculo Xiaomi Mi Scooter 3\n"
     ]
    }
   ],
   "source": [
    "def imprimeVeiculo(objeto):\n",
    "    print(objeto.descrever())\n",
    "\n",
    "\n",
    "imprimeVeiculo(meu_carro)\n",
    "imprimeVeiculo(minha_moto)\n",
    "imprimeVeiculo(meu_veiculo)"
   ]
  },
  {
   "cell_type": "markdown",
   "id": "0f5ca3ea-40c5-4cf5-aa4c-ca276c8388c3",
   "metadata": {},
   "source": [
    "### Interface"
   ]
  },
  {
   "cell_type": "markdown",
   "id": "7901fa6f-d93f-43ee-bf88-d07d90013496",
   "metadata": {},
   "source": [
    "Uma interface em orientação a objetos é um \"contrato\" que estabelece um conjunto de métodos que uma classe deve implementar obrigatóriamente.   \n",
    "Em Python, não há suporte nativo para interfaces como em outras linguagens, mas o conceito pode ser implementado utilizando classes abstratas da biblioteca abc (Abstract Base Class)."
   ]
  },
  {
   "cell_type": "code",
   "execution_count": 54,
   "id": "b3d913d1-d2e3-4f58-ab65-6d7f0a70be7b",
   "metadata": {},
   "outputs": [],
   "source": [
    "from abc import ABC, abstractmethod\n",
    "\n",
    "# Definição da interface\n",
    "class Animal(ABC):\n",
    "    @abstractmethod\n",
    "    def fazer_som(self):\n",
    "        return \"Emitindo som\"\n",
    "\n",
    "    @abstractmethod\n",
    "    def mover(self):\n",
    "        pass"
   ]
  },
  {
   "cell_type": "code",
   "execution_count": 55,
   "id": "adc61bdd-7400-4216-810e-e932582982c9",
   "metadata": {},
   "outputs": [],
   "source": [
    "# Implementação da interface em uma classe concreta\n",
    "class Cachorro(Animal):\n",
    "    def fazer_som(self):\n",
    "        return \"Latido\"\n",
    "\n",
    "    def mover(self):\n",
    "        return \"Corre\"\n"
   ]
  },
  {
   "cell_type": "code",
   "execution_count": 56,
   "id": "d674543a-8919-4b49-a173-45dc6771be8d",
   "metadata": {},
   "outputs": [
    {
     "name": "stdout",
     "output_type": "stream",
     "text": [
      "Som: Latido\n",
      "Movimento: Corre\n"
     ]
    }
   ],
   "source": [
    "cachorro = Cachorro()\n",
    "print(f\"Som: {cachorro.fazer_som()}\")\n",
    "print(f\"Movimento: {cachorro.mover()}\")"
   ]
  },
  {
   "cell_type": "code",
   "execution_count": 57,
   "id": "75900345-f336-45ce-8757-e9e96206e8c4",
   "metadata": {},
   "outputs": [],
   "source": [
    "class Passaro(Animal):\n",
    "    def fazer_som(self):\n",
    "        return \"Canto\""
   ]
  },
  {
   "cell_type": "code",
   "execution_count": 58,
   "id": "715816e6-feae-40fd-a0bb-867ca03f298b",
   "metadata": {},
   "outputs": [
    {
     "ename": "TypeError",
     "evalue": "Can't instantiate abstract class Passaro without an implementation for abstract method 'mover'",
     "output_type": "error",
     "traceback": [
      "\u001b[1;31m---------------------------------------------------------------------------\u001b[0m",
      "\u001b[1;31mTypeError\u001b[0m                                 Traceback (most recent call last)",
      "Cell \u001b[1;32mIn[58], line 1\u001b[0m\n\u001b[1;32m----> 1\u001b[0m passaro \u001b[38;5;241m=\u001b[39m \u001b[43mPassaro\u001b[49m\u001b[43m(\u001b[49m\u001b[43m)\u001b[49m\n",
      "\u001b[1;31mTypeError\u001b[0m: Can't instantiate abstract class Passaro without an implementation for abstract method 'mover'"
     ]
    }
   ],
   "source": [
    "passaro = Passaro()"
   ]
  },
  {
   "cell_type": "markdown",
   "id": "ff44757c-7a83-48d5-ae1e-b53a6beaccfc",
   "metadata": {},
   "source": [
    "Ao criar o objeto retorna um erro informando que o metodo mover() não foi implementado"
   ]
  }
 ],
 "metadata": {
  "kernelspec": {
   "display_name": "Python 3 (ipykernel)",
   "language": "python",
   "name": "python3"
  },
  "language_info": {
   "codemirror_mode": {
    "name": "ipython",
    "version": 3
   },
   "file_extension": ".py",
   "mimetype": "text/x-python",
   "name": "python",
   "nbconvert_exporter": "python",
   "pygments_lexer": "ipython3",
   "version": "3.12.4"
  }
 },
 "nbformat": 4,
 "nbformat_minor": 5
}
