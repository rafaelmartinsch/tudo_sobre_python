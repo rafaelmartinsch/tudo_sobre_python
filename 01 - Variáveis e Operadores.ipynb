{
 "cells": [
  {
   "cell_type": "markdown",
   "id": "e2be0f45-a324-42f1-8e09-b395fc311f25",
   "metadata": {},
   "source": [
    "# Introdução a Python\n",
    "- Linguagem não tipada;\n",
    "- não utiliza chaves e considera blocos de códicos por identação;\n",
    "- Linguagem Interpretada;\n",
    "- para comentário ##"
   ]
  },
  {
   "cell_type": "markdown",
   "id": "71020c75-1765-4bdd-b3c5-f16f5bd6516f",
   "metadata": {},
   "source": [
    "## Atribuição de Variáveis"
   ]
  },
  {
   "cell_type": "markdown",
   "id": "e76e57d3-324d-434f-9dc8-52776c2125e9",
   "metadata": {},
   "source": [
    "- Não tipado: o interpretador tenta reconhecer o tipo da variavél;\n",
    "- Utiliza o = para atribuir valor em uma variável;"
   ]
  },
  {
   "cell_type": "code",
   "execution_count": 1,
   "id": "f3df24a1-d17a-465d-a000-f9f03fd9f8f7",
   "metadata": {},
   "outputs": [],
   "source": [
    "x=3 #Numero Inteiro"
   ]
  },
  {
   "cell_type": "code",
   "execution_count": 2,
   "id": "0e5c491c-1c71-4789-bc24-991201606037",
   "metadata": {},
   "outputs": [],
   "source": [
    "a, b = \"Valor A\", 'Valor B' ##String que podem ser aspas duplas ou simples"
   ]
  },
  {
   "cell_type": "markdown",
   "id": "0e34f9cd-7059-4b95-9632-39bc437a8145",
   "metadata": {},
   "source": [
    "A impressão pode ser apenas digitando a Variavel, ou passando como paametro na função print()"
   ]
  },
  {
   "cell_type": "code",
   "execution_count": 3,
   "id": "e8a004e4-995b-4b4b-8092-af45199bfb94",
   "metadata": {},
   "outputs": [
    {
     "name": "stdout",
     "output_type": "stream",
     "text": [
      "Valor A\n",
      "Valor B\n"
     ]
    },
    {
     "data": {
      "text/plain": [
       "3"
      ]
     },
     "execution_count": 3,
     "metadata": {},
     "output_type": "execute_result"
    }
   ],
   "source": [
    "print(a)\n",
    "print(b)\n",
    "x"
   ]
  },
  {
   "cell_type": "code",
   "execution_count": 5,
   "id": "eb65e85b-ccb7-456a-b50e-d046d7e9c576",
   "metadata": {},
   "outputs": [
    {
     "data": {
      "text/plain": [
       "'B'"
      ]
     },
     "execution_count": 5,
     "metadata": {},
     "output_type": "execute_result"
    }
   ],
   "source": [
    "x= 1.2 #uma variavel pode mudar o tipo\n",
    "x = 'B'\n",
    "x"
   ]
  },
  {
   "cell_type": "code",
   "execution_count": 45,
   "id": "c7f503dc-2e95-4288-ad70-9cb3a43fe5bd",
   "metadata": {},
   "outputs": [
    {
     "data": {
      "text/plain": [
       "2000.0"
      ]
     },
     "execution_count": 45,
     "metadata": {},
     "output_type": "execute_result"
    }
   ],
   "source": [
    "x = 2e3 # representação de valores grandes com expoente 2 * 10 **3 (**elevado)\n",
    "x"
   ]
  },
  {
   "cell_type": "markdown",
   "id": "8457660d-bad2-43ff-a767-2c48585851ed",
   "metadata": {},
   "source": [
    "### Atrinbuição composta"
   ]
  },
  {
   "cell_type": "code",
   "execution_count": 96,
   "id": "b105d9e2-861c-4c06-b3ea-a979ecd8f995",
   "metadata": {},
   "outputs": [
    {
     "data": {
      "text/plain": [
       "200"
      ]
     },
     "execution_count": 96,
     "metadata": {},
     "output_type": "execute_result"
    }
   ],
   "source": [
    "a=200\n",
    "b=a\n",
    "b"
   ]
  },
  {
   "cell_type": "code",
   "execution_count": 97,
   "id": "58b57b47-c3c5-4fd7-92c1-e37b42fc80c6",
   "metadata": {},
   "outputs": [
    {
     "data": {
      "text/plain": [
       "300"
      ]
     },
     "execution_count": 97,
     "metadata": {},
     "output_type": "execute_result"
    }
   ],
   "source": [
    "a=300\n",
    "b=400\n",
    "b=a\n",
    "b"
   ]
  },
  {
   "cell_type": "code",
   "execution_count": 154,
   "id": "00b2c145-4d86-49a6-95e4-67e607a3d26c",
   "metadata": {},
   "outputs": [],
   "source": [
    "#conceito de aux\n",
    "a=300\n",
    "b=400\n",
    "aux=b\n",
    "b=a"
   ]
  },
  {
   "cell_type": "code",
   "execution_count": 158,
   "id": "5f983506-8688-46bb-a310-c189cbf7d01c",
   "metadata": {},
   "outputs": [],
   "source": [
    "#listar variáveis \n",
    "#dir() lista todas\n",
    "#globals()  #variaveis globais\n",
    "#locals() #variaveis locais"
   ]
  },
  {
   "cell_type": "markdown",
   "id": "cb78ddda-67d2-4685-884f-4016023d4960",
   "metadata": {
    "jp-MarkdownHeadingCollapsed": true
   },
   "source": [
    "## Tipos simples de dados "
   ]
  },
  {
   "cell_type": "markdown",
   "id": "a523fde1-0499-4d8a-84bd-eeb8a8d51110",
   "metadata": {},
   "source": [
    "Embora não precise declarar o tipo eles existem e podemos consultar o tipo com a função type() passando a variavel como parametro"
   ]
  },
  {
   "cell_type": "code",
   "execution_count": 46,
   "id": "986bba5f-a6ac-48eb-be92-ee0dc9c71ca3",
   "metadata": {},
   "outputs": [
    {
     "data": {
      "text/plain": [
       "int"
      ]
     },
     "execution_count": 46,
     "metadata": {},
     "output_type": "execute_result"
    }
   ],
   "source": [
    "x =1 #inteiro\n",
    "type(x)"
   ]
  },
  {
   "cell_type": "code",
   "execution_count": 47,
   "id": "607d3fd1-d237-4109-9b7b-9ec1b665eba6",
   "metadata": {},
   "outputs": [
    {
     "data": {
      "text/plain": [
       "float"
      ]
     },
     "execution_count": 47,
     "metadata": {},
     "output_type": "execute_result"
    }
   ],
   "source": [
    "x = 1.2 #flot - com ponto flutuante\n",
    "type(x) "
   ]
  },
  {
   "cell_type": "code",
   "execution_count": 48,
   "id": "7d5b6578-6a2c-49f2-9bd1-2759d7daf428",
   "metadata": {},
   "outputs": [
    {
     "data": {
      "text/plain": [
       "bool"
      ]
     },
     "execution_count": 48,
     "metadata": {},
     "output_type": "execute_result"
    }
   ],
   "source": [
    "x = False #booleano - lógico True ou False, se atentar na escrita sempre começar com maiusculas \n",
    "type(x)"
   ]
  },
  {
   "cell_type": "code",
   "execution_count": 94,
   "id": "c8527c7a-5324-4fa3-880d-24b6b574b534",
   "metadata": {},
   "outputs": [
    {
     "data": {
      "text/plain": [
       "str"
      ]
     },
     "execution_count": 94,
     "metadata": {},
     "output_type": "execute_result"
    }
   ],
   "source": [
    "x = 'texto' #string - cadeia de caracteres \n",
    "type(x)"
   ]
  },
  {
   "cell_type": "markdown",
   "id": "f93be002-e92c-4450-ae90-059ad26ed194",
   "metadata": {
    "jp-MarkdownHeadingCollapsed": true
   },
   "source": [
    "## Conversão de tipos"
   ]
  },
  {
   "cell_type": "markdown",
   "id": "d32a15d0-c765-42be-9e5b-50d25d74c7da",
   "metadata": {},
   "source": [
    "Dependendo da situação é necessário fazer uma conversão, por exemplo converter um numero fracionario para inteiro para se calcular com precisão de casas decimais"
   ]
  },
  {
   "cell_type": "code",
   "execution_count": 112,
   "id": "d0e485b8-d0b9-4649-b74d-02d1ae111630",
   "metadata": {},
   "outputs": [
    {
     "name": "stdout",
     "output_type": "stream",
     "text": [
      "8 <class 'int'>\n"
     ]
    }
   ],
   "source": [
    "#para inteiro:\n",
    "valor =  8.9\n",
    "convertido = int(valor)\n",
    "print(convertido, type(convertido)) "
   ]
  },
  {
   "cell_type": "code",
   "execution_count": 113,
   "id": "f8f88058-665f-49ad-a349-f57dabcf20bb",
   "metadata": {},
   "outputs": [
    {
     "name": "stdout",
     "output_type": "stream",
     "text": [
      "8.9 <class 'str'>\n"
     ]
    }
   ],
   "source": [
    "#para string:\n",
    "convertido = str(valor)\n",
    "print(convertido, type(convertido)) "
   ]
  },
  {
   "cell_type": "code",
   "execution_count": 114,
   "id": "8222f797-5169-4f26-9117-2388378d1d21",
   "metadata": {},
   "outputs": [
    {
     "name": "stdout",
     "output_type": "stream",
     "text": [
      "8.9 <class 'float'>\n"
     ]
    }
   ],
   "source": [
    "#para float:\n",
    "convertido = float(valor)\n",
    "print(convertido, type(convertido)) "
   ]
  },
  {
   "cell_type": "code",
   "execution_count": 119,
   "id": "f668f861-c478-4295-91d2-149a4615cf77",
   "metadata": {},
   "outputs": [
    {
     "name": "stdout",
     "output_type": "stream",
     "text": [
      "False <class 'bool'>\n"
     ]
    }
   ],
   "source": [
    "#para boleano:\n",
    "valor = 0 ## qualquer valor menos o int= 0 será verdadeiro\n",
    "convertido = bool(valor)\n",
    "print(convertido, type(convertido)) "
   ]
  },
  {
   "cell_type": "markdown",
   "id": "bea5b0e6-3b5b-4fd7-ab7b-b51a4311b077",
   "metadata": {
    "jp-MarkdownHeadingCollapsed": true
   },
   "source": [
    "## Operadores de Matemática"
   ]
  },
  {
   "cell_type": "code",
   "execution_count": 63,
   "id": "c558bec1-0f86-484d-86ee-8651cd6aef2e",
   "metadata": {},
   "outputs": [
    {
     "name": "stdout",
     "output_type": "stream",
     "text": [
      "5\n",
      "2\n"
     ]
    }
   ],
   "source": [
    "a, b =  5, 2\n",
    "print(a)\n",
    "print(b)"
   ]
  },
  {
   "cell_type": "code",
   "execution_count": 64,
   "id": "09a525cd-ed07-477a-bd5f-1f4a87035785",
   "metadata": {
    "scrolled": true
   },
   "outputs": [
    {
     "data": {
      "text/plain": [
       "7"
      ]
     },
     "execution_count": 64,
     "metadata": {},
     "output_type": "execute_result"
    }
   ],
   "source": [
    "##soma\n",
    "a+b"
   ]
  },
  {
   "cell_type": "code",
   "execution_count": 65,
   "id": "101e5152-d147-4b4c-a08e-c81e72426348",
   "metadata": {},
   "outputs": [
    {
     "data": {
      "text/plain": [
       "3"
      ]
     },
     "execution_count": 65,
     "metadata": {},
     "output_type": "execute_result"
    }
   ],
   "source": [
    "##subtração\n",
    "a-b"
   ]
  },
  {
   "cell_type": "code",
   "execution_count": 66,
   "id": "097dcf02-1b53-401d-93e8-3df5b1cf224e",
   "metadata": {},
   "outputs": [
    {
     "data": {
      "text/plain": [
       "2.5"
      ]
     },
     "execution_count": 66,
     "metadata": {},
     "output_type": "execute_result"
    }
   ],
   "source": [
    "##divisão\n",
    "a/b  #retorna um float"
   ]
  },
  {
   "cell_type": "code",
   "execution_count": 67,
   "id": "777333e7-99ca-45e0-99e9-960cdcbabda4",
   "metadata": {},
   "outputs": [
    {
     "data": {
      "text/plain": [
       "2"
      ]
     },
     "execution_count": 67,
     "metadata": {},
     "output_type": "execute_result"
    }
   ],
   "source": [
    "##divisão inteira\n",
    "a//b"
   ]
  },
  {
   "cell_type": "code",
   "execution_count": 68,
   "id": "c487ab08-e089-494b-8483-a53df8448620",
   "metadata": {},
   "outputs": [
    {
     "data": {
      "text/plain": [
       "1"
      ]
     },
     "execution_count": 68,
     "metadata": {},
     "output_type": "execute_result"
    }
   ],
   "source": [
    "##reto da divisão\n",
    "a%b"
   ]
  },
  {
   "cell_type": "code",
   "execution_count": 73,
   "id": "00591ea4-ec40-4e64-8a44-c75f798d6e26",
   "metadata": {},
   "outputs": [
    {
     "data": {
      "text/plain": [
       "25"
      ]
     },
     "execution_count": 73,
     "metadata": {},
     "output_type": "execute_result"
    }
   ],
   "source": [
    "##exponencial\n",
    "a**b  #a elevado a b"
   ]
  },
  {
   "cell_type": "code",
   "execution_count": 153,
   "id": "70324bcc-e3ca-4973-ab5c-afc8d49fb239",
   "metadata": {},
   "outputs": [
    {
     "data": {
      "text/plain": [
       "10000000.0"
      ]
     },
     "execution_count": 153,
     "metadata": {},
     "output_type": "execute_result"
    }
   ],
   "source": [
    "#notação científica elevado a 10\n",
    "x = 10e6 #10000000\n",
    "x"
   ]
  },
  {
   "cell_type": "code",
   "execution_count": 130,
   "id": "004be11f-a02a-41fe-90b1-44f9a70d3f6a",
   "metadata": {},
   "outputs": [
    {
     "name": "stdout",
     "output_type": "stream",
     "text": [
      "-2\n",
      "6\n"
     ]
    }
   ],
   "source": [
    "##precedencia com parenteses\n",
    "print(4-2*3)\n",
    "print((4-2)*3)"
   ]
  },
  {
   "cell_type": "markdown",
   "id": "6679cec1-7761-4286-810c-b2b0fa6bee2a",
   "metadata": {
    "jp-MarkdownHeadingCollapsed": true
   },
   "source": [
    "## Operações lógica"
   ]
  },
  {
   "cell_type": "code",
   "execution_count": 131,
   "id": "f9a60a04-5a22-4ed2-bb4a-d60002f4313c",
   "metadata": {},
   "outputs": [
    {
     "data": {
      "text/plain": [
       "False"
      ]
     },
     "execution_count": 131,
     "metadata": {},
     "output_type": "execute_result"
    }
   ],
   "source": [
    "a==b #comparação"
   ]
  },
  {
   "cell_type": "code",
   "execution_count": 132,
   "id": "c503d3c5-e0b0-4384-9228-a3117bfd3998",
   "metadata": {},
   "outputs": [
    {
     "data": {
      "text/plain": [
       "True"
      ]
     },
     "execution_count": 132,
     "metadata": {},
     "output_type": "execute_result"
    }
   ],
   "source": [
    "a != b #diferença"
   ]
  },
  {
   "cell_type": "code",
   "execution_count": 133,
   "id": "0c9ef0f6-7111-4e24-b04f-8eeb74c23918",
   "metadata": {},
   "outputs": [
    {
     "data": {
      "text/plain": [
       "True"
      ]
     },
     "execution_count": 133,
     "metadata": {},
     "output_type": "execute_result"
    }
   ],
   "source": [
    "a<b  #menor"
   ]
  },
  {
   "cell_type": "code",
   "execution_count": 134,
   "id": "bb851168-c4f1-447b-adab-bbf1958883c8",
   "metadata": {},
   "outputs": [
    {
     "data": {
      "text/plain": [
       "True"
      ]
     },
     "execution_count": 134,
     "metadata": {},
     "output_type": "execute_result"
    }
   ],
   "source": [
    "a<=b #menor igual"
   ]
  },
  {
   "cell_type": "code",
   "execution_count": 135,
   "id": "0dd1b682-49f5-468e-93dc-6e7015818a5a",
   "metadata": {},
   "outputs": [
    {
     "data": {
      "text/plain": [
       "False"
      ]
     },
     "execution_count": 135,
     "metadata": {},
     "output_type": "execute_result"
    }
   ],
   "source": [
    "a>b  #maior"
   ]
  },
  {
   "cell_type": "code",
   "execution_count": 136,
   "id": "211755d7-1130-45c5-9a49-9c0705f28878",
   "metadata": {},
   "outputs": [
    {
     "data": {
      "text/plain": [
       "False"
      ]
     },
     "execution_count": 136,
     "metadata": {},
     "output_type": "execute_result"
    }
   ],
   "source": [
    "a>=b  #maior igual"
   ]
  },
  {
   "cell_type": "markdown",
   "id": "5231bdb2-d207-4818-aa6f-7d65a027e995",
   "metadata": {
    "jp-MarkdownHeadingCollapsed": true
   },
   "source": [
    "## Conectores Lógicos"
   ]
  },
  {
   "cell_type": "code",
   "execution_count": 137,
   "id": "cc5f8301-36ff-4450-9e18-8eb6fd8b4b77",
   "metadata": {},
   "outputs": [
    {
     "data": {
      "text/plain": [
       "('Valor A', 'Valor B')"
      ]
     },
     "execution_count": 137,
     "metadata": {},
     "output_type": "execute_result"
    }
   ],
   "source": [
    "a, b"
   ]
  },
  {
   "cell_type": "code",
   "execution_count": 138,
   "id": "9fba19c6-48a6-4372-8967-2a06a7865c52",
   "metadata": {},
   "outputs": [
    {
     "data": {
      "text/plain": [
       "False"
      ]
     },
     "execution_count": 138,
     "metadata": {},
     "output_type": "execute_result"
    }
   ],
   "source": [
    "a==b or a>b ## conectivo OU se uma das sentenças for verdadeira a preposição será verdadeira"
   ]
  },
  {
   "cell_type": "code",
   "execution_count": 139,
   "id": "b1c51f52-1284-4480-8694-3ec3e7b5fc00",
   "metadata": {},
   "outputs": [
    {
     "data": {
      "text/plain": [
       "False"
      ]
     },
     "execution_count": 139,
     "metadata": {},
     "output_type": "execute_result"
    }
   ],
   "source": [
    "a==b and a>b ## a preposiçõa só é verdadeira se as duas preposições forem verdadeira"
   ]
  },
  {
   "cell_type": "markdown",
   "id": "2a03294e-35cf-4fad-869d-67fbfe48a1ec",
   "metadata": {
    "jp-MarkdownHeadingCollapsed": true
   },
   "source": [
    "## Entrada e Saída"
   ]
  },
  {
   "cell_type": "code",
   "execution_count": 146,
   "id": "f1816220-23c9-4970-876a-45b45fb46c46",
   "metadata": {},
   "outputs": [
    {
     "name": "stdin",
     "output_type": "stream",
     "text": [
      "digite um valor:  12\n"
     ]
    },
    {
     "data": {
      "text/plain": [
       "str"
      ]
     },
     "execution_count": 146,
     "metadata": {},
     "output_type": "execute_result"
    }
   ],
   "source": [
    "valor_lido = input(\"digite um valor: \")\n",
    "type(valor_lido)  # o valor lido é SEMPRE do tipo string\n"
   ]
  },
  {
   "cell_type": "markdown",
   "id": "31535250-d608-4272-8d40-756667557e6c",
   "metadata": {},
   "source": [
    "O valor lido sempre será uma str, para fazer operações terá que converter para o tipo correto:"
   ]
  },
  {
   "cell_type": "code",
   "execution_count": 147,
   "id": "392f513e-d4e5-46cd-a3e2-7da7e42f2a34",
   "metadata": {},
   "outputs": [
    {
     "data": {
      "text/plain": [
       "22"
      ]
     },
     "execution_count": 147,
     "metadata": {},
     "output_type": "execute_result"
    }
   ],
   "source": [
    "soma =  int(valor_lido)+10\n",
    "soma"
   ]
  },
  {
   "cell_type": "markdown",
   "id": "0bcf5044-679f-4884-b3eb-01334ff054c6",
   "metadata": {},
   "source": [
    "também pode ser convertido no momento da leitura:"
   ]
  },
  {
   "cell_type": "code",
   "execution_count": 11,
   "id": "3aee8e17-7bfb-4f32-ac92-82b4e081a8b2",
   "metadata": {},
   "outputs": [
    {
     "name": "stdin",
     "output_type": "stream",
     "text": [
      "digite um valor:  45\n"
     ]
    },
    {
     "data": {
      "text/plain": [
       "55.0"
      ]
     },
     "execution_count": 11,
     "metadata": {},
     "output_type": "execute_result"
    }
   ],
   "source": [
    "valor_lido = float(input(\"digite um valor: \"))\n",
    "soma = valor_lido+10\n",
    "soma"
   ]
  },
  {
   "cell_type": "markdown",
   "id": "1671805b-0910-44a0-8186-4d07d05bb828",
   "metadata": {},
   "source": [
    "Impressão:"
   ]
  },
  {
   "cell_type": "code",
   "execution_count": 12,
   "id": "354ef00d-a37a-4d95-a8e7-b21b6161a68f",
   "metadata": {},
   "outputs": [
    {
     "name": "stdout",
     "output_type": "stream",
     "text": [
      "A soma é= 55.0\n"
     ]
    }
   ],
   "source": [
    "print(\"A soma é=\", soma)"
   ]
  },
  {
   "cell_type": "code",
   "execution_count": 13,
   "id": "68f7bfec-6ae1-48dd-b003-1b249f71ac50",
   "metadata": {},
   "outputs": [
    {
     "data": {
      "text/plain": [
       "'A Soma é 55.0!'"
      ]
     },
     "execution_count": 13,
     "metadata": {},
     "output_type": "execute_result"
    }
   ],
   "source": [
    "F\"A Soma é {soma}!\""
   ]
  },
  {
   "cell_type": "code",
   "execution_count": 3,
   "id": "57989425-d6eb-4fb8-af9f-555a4155de9f",
   "metadata": {},
   "outputs": [
    {
     "name": "stdout",
     "output_type": "stream",
     "text": [
      "O valor é 2.45\n"
     ]
    },
    {
     "data": {
      "text/plain": [
       "'O valor é 2.45'"
      ]
     },
     "execution_count": 3,
     "metadata": {},
     "output_type": "execute_result"
    }
   ],
   "source": [
    "valor = 2.4488944945\n",
    "print(f\"O valor é {valor:.2f}\")\n",
    "f\"O valor é {valor:.2f}\""
   ]
  },
  {
   "cell_type": "code",
   "execution_count": 152,
   "id": "ab53c1d7-db19-4734-aaf0-d160b2143cf5",
   "metadata": {},
   "outputs": [
    {
     "data": {
      "text/plain": [
       "'O valor é 244.89%'"
      ]
     },
     "execution_count": 152,
     "metadata": {},
     "output_type": "execute_result"
    }
   ],
   "source": [
    "valor = 2.4488944945\n",
    "f\"O valor é {valor:.2%}\""
   ]
  },
  {
   "cell_type": "markdown",
   "id": "3db942be-25bd-4f55-ba08-c9c56ce1f01f",
   "metadata": {
    "jp-MarkdownHeadingCollapsed": true
   },
   "source": [
    "## Exercícios "
   ]
  },
  {
   "cell_type": "markdown",
   "id": "7a894b6c-d440-4b76-8f0e-0ba151bc4139",
   "metadata": {},
   "source": [
    "### Exercício 1:\n",
    "Escreva um script que receba o nome, idade e altura de uma pessoa e logo em seguida printa esses dados na tela\n",
    "\n",
    "### Exercício 2:\n",
    " Escreva um código que receba a distância percorrida e o tempo gasto e calcule qual foi a velocidade média do trajeto.\n",
    "\n",
    "#### Exercício 3:\n",
    "Escreva um código que receba o nome de um vendedor, seu salário fixo e o total de vendas que ele efetuou no mês. Retorne o salário final do vendedor sabendo que ele ganha 15% de comissão sobre as vendas que efetuou."
   ]
  },
  {
   "cell_type": "code",
   "execution_count": null,
   "id": "39e57849-b4b7-482d-abad-a7ec1073cddf",
   "metadata": {},
   "outputs": [],
   "source": []
  }
 ],
 "metadata": {
  "kernelspec": {
   "display_name": "Python 3 (ipykernel)",
   "language": "python",
   "name": "python3"
  },
  "language_info": {
   "codemirror_mode": {
    "name": "ipython",
    "version": 3
   },
   "file_extension": ".py",
   "mimetype": "text/x-python",
   "name": "python",
   "nbconvert_exporter": "python",
   "pygments_lexer": "ipython3",
   "version": "3.12.4"
  }
 },
 "nbformat": 4,
 "nbformat_minor": 5
}
