{
 "cells": [
  {
   "cell_type": "markdown",
   "id": "fe62bfd7-53ff-45b8-8167-e74d846397a4",
   "metadata": {},
   "source": [
    "## Introdução a Python"
   ]
  },
  {
   "cell_type": "code",
   "execution_count": 11,
   "id": "18e43616-0026-43f5-87cb-cad99102899b",
   "metadata": {},
   "outputs": [
    {
     "name": "stdout",
     "output_type": "stream",
     "text": [
      "Olá Mundo!\n"
     ]
    }
   ],
   "source": [
    "print(\"Olá Mundo!\")"
   ]
  },
  {
   "cell_type": "markdown",
   "id": "c015389a-02a6-416d-b2b6-ed848d371198",
   "metadata": {},
   "source": [
    "## Variáveis "
   ]
  },
  {
   "cell_type": "markdown",
   "id": "f2836d83-b1a3-4ef5-84bd-f88b9e2cf768",
   "metadata": {},
   "source": [
    " - Inteiros =  int\n",
    " - Real = float\n",
    " - Cadeia de Caracteres = str\n",
    " - lógico = bool\n",
    "linguagem com tipo de dados dinâmico "
   ]
  },
  {
   "cell_type": "code",
   "execution_count": 1,
   "id": "eb168662-12c3-4624-a3d3-4bfc1d1ef9c0",
   "metadata": {},
   "outputs": [],
   "source": [
    "nome = \"João Desenvolvedor\"\n",
    "idade = 23 \n",
    "altura = 1.75\n",
    "sabePython = True"
   ]
  },
  {
   "cell_type": "code",
   "execution_count": 2,
   "id": "6efca819-75d8-46cb-8aba-8474aea29a14",
   "metadata": {
    "scrolled": true
   },
   "outputs": [
    {
     "name": "stdout",
     "output_type": "stream",
     "text": [
      "João Desenvolvedor <class 'str'>\n",
      "23 <class 'int'>\n",
      "1.75 <class 'float'>\n",
      "True <class 'bool'>\n"
     ]
    }
   ],
   "source": [
    "print(nome, type(nome))\n",
    "print(idade,type(idade))\n",
    "print(altura, type(altura))\n",
    "print(sabePython, type(sabePython))"
   ]
  },
  {
   "cell_type": "markdown",
   "id": "bb7fa3db-dcca-4817-bc95-a7da789252de",
   "metadata": {},
   "source": [
    "## Atribuíção composta "
   ]
  },
  {
   "cell_type": "code",
   "execution_count": 9,
   "id": "d302706f-ea33-4e97-a033-b0d27747be64",
   "metadata": {},
   "outputs": [
    {
     "name": "stdout",
     "output_type": "stream",
     "text": [
      "99\n"
     ]
    }
   ],
   "source": [
    "a = 88\n",
    "b= 99\n",
    "a=b\n",
    "print(a)"
   ]
  },
  {
   "cell_type": "markdown",
   "id": "071e82c5-d309-4231-9fc5-1b0222aa6d8a",
   "metadata": {},
   "source": [
    "## Desvio condicional e estrutura de decisões"
   ]
  },
  {
   "cell_type": "code",
   "execution_count": 6,
   "id": "1913f0f9-31e4-4679-b881-4d63919adab5",
   "metadata": {},
   "outputs": [
    {
     "name": "stdin",
     "output_type": "stream",
     "text": [
      " 5\n",
      " 0\n"
     ]
    }
   ],
   "source": [
    "#Desvio\n",
    "valor1= int(input())\n",
    "valor2 = int(input())\n",
    "#print(\"Resultado:\", valor1/valor2)\n",
    "if (valor2!=0):\n",
    "    print(\"Resultado:\", valor1/valor2)\n"
   ]
  },
  {
   "cell_type": "code",
   "execution_count": 7,
   "id": "80ccda1c-d701-4ed6-8555-272cfcc905d5",
   "metadata": {},
   "outputs": [
    {
     "name": "stdin",
     "output_type": "stream",
     "text": [
      " 0\n",
      " 0\n"
     ]
    },
    {
     "name": "stdout",
     "output_type": "stream",
     "text": [
      "Não é possível dividir por zero\n"
     ]
    }
   ],
   "source": [
    "#Estrutura de decisão\n",
    "valor1= int(input())\n",
    "valor2 = int(input())\n",
    "#print(\"Resultado:\", valor1/valor2)\n",
    "if valor2!=0:\n",
    "\tprint(\"Resultado:\", valor1/valor2)\n",
    "else:\n",
    "\tprint(\"Não é possível dividir por zero\")\n",
    "\n"
   ]
  },
  {
   "cell_type": "code",
   "execution_count": 8,
   "id": "c423eaf8-8145-4f15-a741-d5b560680e98",
   "metadata": {},
   "outputs": [
    {
     "name": "stdin",
     "output_type": "stream",
     "text": [
      "Informe o sinal da operação: +\n"
     ]
    },
    {
     "name": "stdout",
     "output_type": "stream",
     "text": [
      "Adição\n"
     ]
    }
   ],
   "source": [
    "#Estrutura de decisão composta\n",
    "sinal = input(\"Informe o sinal da operação:\")\n",
    "if sinal == '+':\n",
    "    print(\"Adição\")\n",
    "elif sinal == '-':\n",
    "    print(\"Subtração\")\n",
    "elif sinal == '*':\n",
    "    print(\"Multiplicação\")\n",
    "elif sinal == ';':\n",
    "    print(\"Divisão\")\n",
    "else:\n",
    "    print(\"opção inválida\")"
   ]
  },
  {
   "cell_type": "code",
   "execution_count": 9,
   "id": "c2584452-6da6-4fec-bb66-5ff67ed8e013",
   "metadata": {},
   "outputs": [
    {
     "name": "stdin",
     "output_type": "stream",
     "text": [
      "Informe o sinal da operação: *\n",
      "Valor 1: 5\n",
      "Valor 2: 2\n"
     ]
    },
    {
     "name": "stdout",
     "output_type": "stream",
     "text": [
      "Resultado: 10.0\n"
     ]
    }
   ],
   "source": [
    "#Estrutura de decisão composta\n",
    "sinal = input(\"Informe o sinal da operação:\")\n",
    "valor1 =  float(input(\"Valor 1:\"))\n",
    "valor2 =  float(input(\"Valor 2:\"))\n",
    "\n",
    "match(sinal):\n",
    "    case '*':\n",
    "        print(\"Resultado:\", valor1*valor2)\n",
    "    case '/':\n",
    "        print(\"Resultado:\", valor1/valor2)\n",
    "    case '+':\n",
    "        print(\"Resultado:\", valor1+valor2)\n",
    "    case '-':\n",
    "        print(\"Resultado:\", valor1-valor2)\n",
    "    case _:\n",
    "        print(\"Opção Inválida\")"
   ]
  },
  {
   "cell_type": "markdown",
   "id": "6c9b5aa4-55c2-472d-b392-2406fd532e94",
   "metadata": {},
   "source": [
    "## Laços de Repetição"
   ]
  },
  {
   "cell_type": "markdown",
   "id": "6c4d5fc2-6945-4e52-8c23-5a589b65784c",
   "metadata": {},
   "source": [
    "### Comando while\n",
    "repete até que uma condição seja satisfeita"
   ]
  },
  {
   "cell_type": "code",
   "execution_count": 14,
   "id": "07b077a9-d72a-41be-aa56-6785c3bf8831",
   "metadata": {},
   "outputs": [
    {
     "name": "stdout",
     "output_type": "stream",
     "text": [
      "0\n",
      "-1\n",
      "-2\n",
      "-3\n",
      "-4\n",
      "Acabou!\n"
     ]
    }
   ],
   "source": [
    "contador = 0\n",
    "while contador > -5:\n",
    "    print(contador)\n",
    "    contador = contador -1\n",
    "print(\"Acabou!\")"
   ]
  },
  {
   "cell_type": "markdown",
   "id": "b4847155-5698-4594-8749-4a2b4caebedc",
   "metadata": {},
   "source": [
    "#### Comando for\n",
    "Respeita uma sequência pré estabelecida de repetições"
   ]
  },
  {
   "cell_type": "code",
   "execution_count": 15,
   "id": "a6cb642a-55ee-4606-a258-3537747c5839",
   "metadata": {},
   "outputs": [
    {
     "name": "stdout",
     "output_type": "stream",
     "text": [
      "0\n",
      "1\n",
      "2\n",
      "3\n",
      "4\n"
     ]
    }
   ],
   "source": [
    "for i in range(5):  # range(5) gera uma sequência de 0 a 4\n",
    "    print(i)"
   ]
  },
  {
   "cell_type": "markdown",
   "id": "9dfcfd85-c157-4aee-8c56-069c8de2867e",
   "metadata": {},
   "source": [
    "## Funções"
   ]
  },
  {
   "cell_type": "markdown",
   "id": "85698c2c-a4a9-47e3-9be1-969a7d51480b",
   "metadata": {},
   "source": [
    "Faça um algoritmo que receba dois números do usuário, primeiro verifique se o primeiro número é divisivel por 2 e na sequencia se o primeiro é divisivel pelo segundo"
   ]
  },
  {
   "cell_type": "code",
   "execution_count": 16,
   "id": "f8c0f031-0723-402f-b62a-5e914ba19bce",
   "metadata": {},
   "outputs": [
    {
     "name": "stdin",
     "output_type": "stream",
     "text": [
      " 2\n",
      " 1\n"
     ]
    },
    {
     "name": "stdout",
     "output_type": "stream",
     "text": [
      "é divisivel!\n",
      "é divisivel!\n"
     ]
    }
   ],
   "source": [
    "valor1= int(input())\n",
    "valor2= int(input())\n",
    "\n",
    "if valor1%2==0:\n",
    "    print(\"é divisivel!\")\n",
    "else:\n",
    "    print(\"Não é divisivel!\")\n",
    "\n",
    "if valor1%valor2==0:\n",
    "    print(\"é divisivel!\")\n",
    "else:\n",
    "    print(\"Não é divisivel!\")"
   ]
  },
  {
   "cell_type": "markdown",
   "id": "e6e25d5c-6d88-4e24-b14c-f06e261678d0",
   "metadata": {},
   "source": [
    "comando def cria uma função nomefuncao(parametro)"
   ]
  },
  {
   "cell_type": "code",
   "execution_count": 17,
   "id": "8563694f-a971-4cdc-9b28-e3aa7d4ab2aa",
   "metadata": {},
   "outputs": [
    {
     "name": "stdin",
     "output_type": "stream",
     "text": [
      " 2\n",
      " 1\n"
     ]
    },
    {
     "name": "stdout",
     "output_type": "stream",
     "text": [
      "é divisivel!\n",
      "é divisivel!\n"
     ]
    }
   ],
   "source": [
    "def divisivel(a, b):\n",
    "    if a%b==0:\n",
    "        print(\"é divisivel!\")\n",
    "    else:\n",
    "        print(\"Não é divisivel!\")\n",
    "\n",
    "valor1= int(input())\n",
    "valor2= int(input())\n",
    "\n",
    "divisivel(valor1, 2)\n",
    "divisivel(valor1, valor2)"
   ]
  },
  {
   "cell_type": "code",
   "execution_count": null,
   "id": "1e19f5c1-429a-47bf-800d-90616e70f75f",
   "metadata": {},
   "outputs": [],
   "source": []
  }
 ],
 "metadata": {
  "kernelspec": {
   "display_name": "Python 3 (ipykernel)",
   "language": "python",
   "name": "python3"
  },
  "language_info": {
   "codemirror_mode": {
    "name": "ipython",
    "version": 3
   },
   "file_extension": ".py",
   "mimetype": "text/x-python",
   "name": "python",
   "nbconvert_exporter": "python",
   "pygments_lexer": "ipython3",
   "version": "3.12.4"
  }
 },
 "nbformat": 4,
 "nbformat_minor": 5
}
