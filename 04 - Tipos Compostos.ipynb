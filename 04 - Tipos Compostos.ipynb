{
 "cells": [
  {
   "cell_type": "markdown",
   "id": "05c680b3-7f92-4e7f-8248-840fbea59eaf",
   "metadata": {},
   "source": [
    "# Tipos de dados compostos\n",
    "São estruturas de dados que englobam varios dados.\n",
    "Exitem 5 tipos de compostos de estrutura de dados: \n",
    " - Lista\n",
    " - Tuplas\n",
    " - Conjuntos\n",
    " - Dicionários\n",
    " - Intervalo\n"
   ]
  },
  {
   "cell_type": "markdown",
   "id": "06f173e4-1f33-4237-88e1-9e16ede61e13",
   "metadata": {},
   "source": [
    "## Listas (list)"
   ]
  },
  {
   "cell_type": "markdown",
   "id": "264fc7fe-6758-4c29-9fd2-f5171f29e1cd",
   "metadata": {},
   "source": [
    "- Elementos inseridos em uma lista com posição;\n",
    "- Possuí estrutura composta e aceitam mais de um tipo de dados;\n",
    "- Acrescenta elementos novos no final da lista\n",
    "- Strings podem de comportar como listas"
   ]
  },
  {
   "cell_type": "code",
   "execution_count": 9,
   "id": "088624b3-c579-4958-a1f9-b7c07364631e",
   "metadata": {},
   "outputs": [
    {
     "name": "stdout",
     "output_type": "stream",
     "text": [
      "lista1:  <class 'list'>\n",
      "lista2:  <class 'list'>\n"
     ]
    }
   ],
   "source": [
    "#Declaração:\n",
    "lista1 = list()\n",
    "lista2 = []\n",
    "\n",
    "print('lista1: ',type(lista1))\n",
    "print('lista2: ',type(lista2))"
   ]
  },
  {
   "cell_type": "code",
   "execution_count": 10,
   "id": "809dc93a-89ac-484e-aaa6-a7ca23a3c0dd",
   "metadata": {},
   "outputs": [
    {
     "name": "stdout",
     "output_type": "stream",
     "text": [
      "[1, 'Texto', 3.1, True]\n",
      "[2, 'Texto', 3.1, True]\n"
     ]
    }
   ],
   "source": [
    "#Atribuindo valores:\n",
    "lista1 = [1, 'Texto', 3.1, True]\n",
    "lista2 = list([2, 'Texto', 3.1, True])\n",
    "print(lista1)\n",
    "print(lista2)"
   ]
  },
  {
   "cell_type": "code",
   "execution_count": 11,
   "id": "983de401-3b7f-4e50-aff0-2b5683d98bc5",
   "metadata": {},
   "outputs": [
    {
     "data": {
      "text/plain": [
       "[1, 'Texto', 3.1, True, 'Valor Adicionado']"
      ]
     },
     "execution_count": 11,
     "metadata": {},
     "output_type": "execute_result"
    }
   ],
   "source": [
    "#Adicionar elemento:\n",
    "lista1.append(\"Valor Adicionado\")\n",
    "lista1"
   ]
  },
  {
   "cell_type": "code",
   "execution_count": 12,
   "id": "155b249b-f75e-4f27-98e4-cef67f9fcbd9",
   "metadata": {},
   "outputs": [
    {
     "data": {
      "text/plain": [
       "[1, 'Texto', 3.1, True]"
      ]
     },
     "execution_count": 12,
     "metadata": {},
     "output_type": "execute_result"
    }
   ],
   "source": [
    "#remover elemento:\n",
    "del lista1[4]\n",
    "lista1"
   ]
  },
  {
   "cell_type": "code",
   "execution_count": 13,
   "id": "c9edb128-df46-4256-9496-8d2eb0b4471e",
   "metadata": {},
   "outputs": [
    {
     "data": {
      "text/plain": [
       "4"
      ]
     },
     "execution_count": 13,
     "metadata": {},
     "output_type": "execute_result"
    }
   ],
   "source": [
    "#tamanho da lista:\n",
    "len(lista1)"
   ]
  },
  {
   "cell_type": "code",
   "execution_count": 14,
   "id": "85865522-4f11-4b98-8fd2-51ecee3e4291",
   "metadata": {},
   "outputs": [
    {
     "data": {
      "text/plain": [
       "'Texto'"
      ]
     },
     "execution_count": 14,
     "metadata": {},
     "output_type": "execute_result"
    }
   ],
   "source": [
    "#imprimir uma posição da lista:\n",
    "lista1[1]"
   ]
  },
  {
   "cell_type": "markdown",
   "id": "e51e97f5-5cae-4f73-bc7d-06c03057c2bd",
   "metadata": {},
   "source": [
    "***Iterando a Lista e tupla***"
   ]
  },
  {
   "cell_type": "markdown",
   "id": "809093c2-3ff6-45b8-abb7-7d468469c5a5",
   "metadata": {},
   "source": [
    "Sempre que passar a lista como parametro para um print ele vai mostrar a lista com os [], para que possamos listar a lista mostranto um elemeto por vez podemos utilizar o comando ***for*** que faz a iteração colocando o valor da posição em uma variavel temporária."
   ]
  },
  {
   "cell_type": "code",
   "execution_count": 16,
   "id": "b9001908-76a7-4bde-9410-de2c2344fe4f",
   "metadata": {},
   "outputs": [
    {
     "name": "stdout",
     "output_type": "stream",
     "text": [
      "1\n",
      "Texto\n",
      "3.1\n",
      "True\n"
     ]
    }
   ],
   "source": [
    "for aux in lista1:\n",
    "    print(aux)"
   ]
  },
  {
   "cell_type": "markdown",
   "id": "ce433358-0c6e-421d-9387-41aa56c50816",
   "metadata": {
    "jp-MarkdownHeadingCollapsed": true
   },
   "source": [
    "## Tuplas (tuple)"
   ]
  },
  {
   "cell_type": "markdown",
   "id": "22d301da-28ca-4a12-befd-a39ef28d7ecc",
   "metadata": {},
   "source": [
    "- Semelhante a lista, mas é Imutável, ou seja uma vez  definido não se pode alterar;\n",
    "- Estrutura composta, aceita mais de um tipo de dado"
   ]
  },
  {
   "cell_type": "code",
   "execution_count": 2,
   "id": "829175f5-d413-4ea9-b3a5-034b274153e4",
   "metadata": {},
   "outputs": [
    {
     "name": "stdout",
     "output_type": "stream",
     "text": [
      "tp1:  <class 'tuple'>\n",
      "tp2:  <class 'tuple'>\n"
     ]
    }
   ],
   "source": [
    "#Declaração\n",
    "tp1 = tuple()\n",
    "tp2 = ()\n",
    "\n",
    "print('tp1: ',type(tp1))\n",
    "print('tp2: ',type(tp2))"
   ]
  },
  {
   "cell_type": "code",
   "execution_count": 3,
   "id": "f9edd67d-c7bb-40ba-98f6-37160e9784b2",
   "metadata": {},
   "outputs": [
    {
     "name": "stdout",
     "output_type": "stream",
     "text": [
      "('Olá', 3, 3.1, True)\n",
      "('Olá', 4, 3.1, True)\n",
      "('Olá', 5, 3.1, True)\n"
     ]
    }
   ],
   "source": [
    "#Atribuindo valores:\n",
    "tp1 = ('Olá', 3, 3.1, True)\n",
    "tp2 = 'Olá', 4, 3.1, True\n",
    "tp3 = tuple(['Olá', 5, 3.1, True])\n",
    "\n",
    "print(tp1)\n",
    "print(tp2)\n",
    "print(tp3)"
   ]
  },
  {
   "cell_type": "code",
   "execution_count": 4,
   "id": "180ae3e3-4681-4118-8583-c3f4156ad1cc",
   "metadata": {},
   "outputs": [
    {
     "data": {
      "text/plain": [
       "'Olá'"
      ]
     },
     "execution_count": 4,
     "metadata": {},
     "output_type": "execute_result"
    }
   ],
   "source": [
    "#listar posição\n",
    "tp1[0]"
   ]
  },
  {
   "cell_type": "code",
   "execution_count": 5,
   "id": "a85123d8-6ba9-4c7b-9f92-837ac0fdc771",
   "metadata": {},
   "outputs": [
    {
     "data": {
      "text/plain": [
       "4"
      ]
     },
     "execution_count": 5,
     "metadata": {},
     "output_type": "execute_result"
    }
   ],
   "source": [
    "#Tamanho\n",
    "len(tp1)"
   ]
  },
  {
   "cell_type": "code",
   "execution_count": 3,
   "id": "ac63eb0f-0a73-4cae-a387-c68d790f09be",
   "metadata": {},
   "outputs": [
    {
     "ename": "NameError",
     "evalue": "name 'tp1' is not defined",
     "output_type": "error",
     "traceback": [
      "\u001b[1;31m---------------------------------------------------------------------------\u001b[0m",
      "\u001b[1;31mNameError\u001b[0m                                 Traceback (most recent call last)",
      "Cell \u001b[1;32mIn[3], line 2\u001b[0m\n\u001b[0;32m      1\u001b[0m \u001b[38;5;66;03m#erro ao adionar\u001b[39;00m\n\u001b[1;32m----> 2\u001b[0m \u001b[43mtp1\u001b[49m\u001b[38;5;241m.\u001b[39mappend(\u001b[38;5;124m\"\u001b[39m\u001b[38;5;124mValor Adicionado\u001b[39m\u001b[38;5;124m\"\u001b[39m)\n\u001b[0;32m      3\u001b[0m tp1\n",
      "\u001b[1;31mNameError\u001b[0m: name 'tp1' is not defined"
     ]
    }
   ],
   "source": [
    "#erro ao adionar\n",
    "tp1.append(\"Valor Adicionado\")\n",
    "tp1"
   ]
  },
  {
   "cell_type": "markdown",
   "id": "af7779a6-e0cf-494b-9d83-df5322cd5a80",
   "metadata": {},
   "source": [
    "## Conjuntos (Set)"
   ]
  },
  {
   "cell_type": "markdown",
   "id": "5984f333",
   "metadata": {},
   "source": [
    "- Diferete das tuplas e listas os conjuntos não tem ordem ou posição dos elementos ex. list1[0];\n",
    "- Sem elementos repetidos;\n",
    "- Aplica-se o conceito da teoria dos conjuntos;"
   ]
  },
  {
   "cell_type": "code",
   "execution_count": null,
   "id": "5078c838",
   "metadata": {},
   "outputs": [
    {
     "data": {
      "text/plain": [
       "{1, 'A'}"
      ]
     },
     "execution_count": 4,
     "metadata": {},
     "output_type": "execute_result"
    }
   ],
   "source": [
    "#declaração\n",
    "conjuntoA = set()\n",
    "conjuntoB = {} ##declarar conjunto vazio\n",
    "conjuntoC = {1, \"A\", 1 } \n",
    "\n",
    "#será desconsiderado os valores repetidos\n",
    "conjuntoC"
   ]
  },
  {
   "cell_type": "markdown",
   "id": "7e65e388",
   "metadata": {},
   "source": [
    "Exemplo de erro ao tentar imprimir uma posição"
   ]
  },
  {
   "cell_type": "code",
   "execution_count": 5,
   "id": "1b11556b",
   "metadata": {},
   "outputs": [
    {
     "ename": "TypeError",
     "evalue": "'set' object is not subscriptable",
     "output_type": "error",
     "traceback": [
      "\u001b[1;31m---------------------------------------------------------------------------\u001b[0m",
      "\u001b[1;31mTypeError\u001b[0m                                 Traceback (most recent call last)",
      "Cell \u001b[1;32mIn[5], line 1\u001b[0m\n\u001b[1;32m----> 1\u001b[0m \u001b[43mconjuntoC\u001b[49m\u001b[43m[\u001b[49m\u001b[38;5;241;43m0\u001b[39;49m\u001b[43m]\u001b[49m\n",
      "\u001b[1;31mTypeError\u001b[0m: 'set' object is not subscriptable"
     ]
    }
   ],
   "source": [
    "conjuntoC[0]"
   ]
  },
  {
   "cell_type": "code",
   "execution_count": 9,
   "id": "3af3cf88",
   "metadata": {},
   "outputs": [
    {
     "data": {
      "text/plain": [
       "{1, 3, 5}"
      ]
     },
     "execution_count": 9,
     "metadata": {},
     "output_type": "execute_result"
    }
   ],
   "source": [
    "#Adicionando elementos:\n",
    "conjuntoA.add(1)\n",
    "conjuntoA.add(3)\n",
    "conjuntoA.add(5)\n",
    "\n",
    "conjuntoA"
   ]
  },
  {
   "cell_type": "code",
   "execution_count": 11,
   "id": "8b4a5680",
   "metadata": {},
   "outputs": [
    {
     "data": {
      "text/plain": [
       "{1, 3}"
      ]
     },
     "execution_count": 11,
     "metadata": {},
     "output_type": "execute_result"
    }
   ],
   "source": [
    "#removendo elemento:  só é possível remover utilizando o remove que passa como parametro o valor, não sendo possível utilizar o .pop() que recebe como parametro a posição.\n",
    "conjuntoA.remove(5)\n",
    "conjuntoA"
   ]
  },
  {
   "cell_type": "markdown",
   "id": "a984d723",
   "metadata": {},
   "source": [
    "### Teoria dos conjuntos\n",
    "  \n",
    "É possivel realizar operações de conjunção, disjunção e intersecção"
   ]
  },
  {
   "cell_type": "markdown",
   "id": "f77dc910",
   "metadata": {},
   "source": [
    "* Conjunção  \n",
    "A operação de conjunção irá unir dois conjuntos mantendo valores únicos caso tenha valores que se repitam."
   ]
  },
  {
   "cell_type": "code",
   "execution_count": 19,
   "id": "ef794139",
   "metadata": {},
   "outputs": [
    {
     "name": "stdout",
     "output_type": "stream",
     "text": [
      "Conjunto A: {1, 3}\n",
      "Conjunto C: {1, 'A'}\n"
     ]
    },
    {
     "data": {
      "text/plain": [
       "{1, 3, 'A'}"
      ]
     },
     "execution_count": 19,
     "metadata": {},
     "output_type": "execute_result"
    }
   ],
   "source": [
    "print(\"Conjunto A:\",conjuntoA)\n",
    "print(\"Conjunto C:\",conjuntoC)\n",
    "\n",
    "conjuntoB = conjuntoA.union(conjuntoC)\n",
    "\n",
    "conjuntoB"
   ]
  },
  {
   "cell_type": "markdown",
   "id": "4cdcfd02",
   "metadata": {},
   "source": [
    "* Disjunção  \n",
    "A operação de disjunção irá retornar somente o que o conjunto possuí e que não esteja no segundo conjunto"
   ]
  },
  {
   "cell_type": "code",
   "execution_count": 20,
   "id": "075e5f5c",
   "metadata": {},
   "outputs": [
    {
     "name": "stdout",
     "output_type": "stream",
     "text": [
      "Conjunto A: {1, 3}\n",
      "Conjunto C: {1, 'A'}\n"
     ]
    },
    {
     "data": {
      "text/plain": [
       "{3}"
      ]
     },
     "execution_count": 20,
     "metadata": {},
     "output_type": "execute_result"
    }
   ],
   "source": [
    "print(\"Conjunto A:\",conjuntoA)\n",
    "print(\"Conjunto C:\",conjuntoC)\n",
    "\n",
    "conjuntoB = conjuntoA.difference(conjuntoC)\n",
    "\n",
    "conjuntoB"
   ]
  },
  {
   "cell_type": "markdown",
   "id": "10af36c4",
   "metadata": {},
   "source": [
    "* Intersecção  \n",
    "A operação de intersecção retorna apenas o que foi encontrado nos dois conjuntos."
   ]
  },
  {
   "cell_type": "code",
   "execution_count": 21,
   "id": "c7237e01",
   "metadata": {},
   "outputs": [
    {
     "name": "stdout",
     "output_type": "stream",
     "text": [
      "Conjunto A: {1, 3}\n",
      "Conjunto C: {1, 'A'}\n"
     ]
    },
    {
     "data": {
      "text/plain": [
       "{1}"
      ]
     },
     "execution_count": 21,
     "metadata": {},
     "output_type": "execute_result"
    }
   ],
   "source": [
    "print(\"Conjunto A:\",conjuntoA)\n",
    "print(\"Conjunto C:\",conjuntoC)\n",
    "\n",
    "conjuntoB = conjuntoA.intersection(conjuntoC)\n",
    "\n",
    "conjuntoB"
   ]
  },
  {
   "cell_type": "markdown",
   "id": "889d3dd4-38dc-4c21-b85f-9f32b303d509",
   "metadata": {
    "jp-MarkdownHeadingCollapsed": true
   },
   "source": [
    "## Dicionário (Dict)\n"
   ]
  },
  {
   "cell_type": "markdown",
   "id": "0ac17836",
   "metadata": {},
   "source": [
    "Dicionários organizam os dados em chave e valor, diverente de listas e tuplas que organizam por posição."
   ]
  },
  {
   "cell_type": "code",
   "execution_count": 60,
   "id": "fb5addea",
   "metadata": {},
   "outputs": [
    {
     "data": {
      "text/plain": [
       "{'nome': 'Joao Dev', 'idade': 22}"
      ]
     },
     "execution_count": 60,
     "metadata": {},
     "output_type": "execute_result"
    }
   ],
   "source": [
    "#Declaração\n",
    "\n",
    "contatos = {\"nome\": \"Joao Dev\", \"idade\":22}\n",
    "\n",
    "#dicionário vazio\n",
    "x = dict() \n",
    "x = ()\n",
    "\n",
    "contatos"
   ]
  },
  {
   "cell_type": "code",
   "execution_count": 61,
   "id": "4778edde",
   "metadata": {},
   "outputs": [
    {
     "name": "stdout",
     "output_type": "stream",
     "text": [
      "dict_keys(['nome', 'idade'])\n",
      "dict_values(['Joao Dev', 22])\n"
     ]
    },
    {
     "data": {
      "text/plain": [
       "'Joao Dev'"
      ]
     },
     "execution_count": 61,
     "metadata": {},
     "output_type": "execute_result"
    }
   ],
   "source": [
    "#chaves\n",
    "print(contatos.keys())\n",
    "\n",
    "#valores\n",
    "print(contatos.values())\n",
    "\n",
    "#imprimindo valor referente a chave \"nome\"\n",
    "contatos[\"nome\"]"
   ]
  },
  {
   "cell_type": "code",
   "execution_count": 62,
   "id": "bfa54c18",
   "metadata": {},
   "outputs": [
    {
     "data": {
      "text/plain": [
       "{'nome': 'Joao Dev', 'idade': 22, 'email': 'joao@gmail.com'}"
      ]
     },
     "execution_count": 62,
     "metadata": {},
     "output_type": "execute_result"
    }
   ],
   "source": [
    "#adiionando novas chaves \n",
    "contatos[\"email\"] = \"joao@gmail.com\"\n",
    "\n",
    "contatos"
   ]
  },
  {
   "cell_type": "code",
   "execution_count": 63,
   "id": "9c62b7ae",
   "metadata": {},
   "outputs": [
    {
     "name": "stdout",
     "output_type": "stream",
     "text": [
      "{'nome': 'Joao Dev', 'idade': 22, 'email': 'joao@gmail.com', 'geo': [-52.4, 53.8]}\n",
      "Longitude -52.4\n"
     ]
    }
   ],
   "source": [
    "#pode receber uma lista, tupla como valor\n",
    "contatos[\"geo\"]=[-52.4, 53.8]\n",
    "\n",
    "print(contatos)\n",
    "\n",
    "print(\"Longitude\", contatos['geo'][0])"
   ]
  },
  {
   "cell_type": "code",
   "execution_count": 64,
   "id": "a541b0cc",
   "metadata": {},
   "outputs": [
    {
     "name": "stdout",
     "output_type": "stream",
     "text": [
      "Longitude 53.8\n"
     ]
    }
   ],
   "source": [
    "#uma chave pode receber um dicoinário como valor\n",
    "contatos[\"geo\"]={\"lat\":-52.4,  \"long\": 53.8}\n",
    "\n",
    "print(\"Longitude\", contatos['geo']['long'])"
   ]
  },
  {
   "cell_type": "code",
   "execution_count": null,
   "id": "2fa7c677",
   "metadata": {},
   "outputs": [
    {
     "data": {
      "text/plain": [
       "{'nome': 'Joao Dev', 'idade': 22, 'email': 'joao@gmail.com'}"
      ]
     },
     "execution_count": 65,
     "metadata": {},
     "output_type": "execute_result"
    }
   ],
   "source": [
    "#remover key\n",
    "contatos.pop(\"geo\")\n",
    "\n",
    "contatos"
   ]
  },
  {
   "cell_type": "markdown",
   "id": "554e9a5d-9814-4f2b-aa89-85b7c934811d",
   "metadata": {},
   "source": [
    "## Intevalos (Range)\n"
   ]
  },
  {
   "cell_type": "markdown",
   "id": "1b3f966d",
   "metadata": {},
   "source": [
    "Gera um intervalo de valores ex: Range(inicio, fim, passos)"
   ]
  },
  {
   "cell_type": "code",
   "execution_count": 72,
   "id": "81e05330",
   "metadata": {},
   "outputs": [
    {
     "name": "stdout",
     "output_type": "stream",
     "text": [
      "[2, 4, 6, 8, 10, 12, 14, 16, 18]\n",
      "[2, 3, 4, 5, 6, 7, 8, 9, 10, 11, 12, 13, 14, 15, 16, 17, 18]\n"
     ]
    }
   ],
   "source": [
    "#valores de 2 em 2 iniciando de 2 até 18\n",
    "valores = list(range(2,19, 2))\n",
    "print(valores)\n",
    "\n",
    "#valores de 1 a 1 quando não passa o último parâmetro\n",
    "valores = list(range(2,19))\n",
    "print(valores)\n"
   ]
  }
 ],
 "metadata": {
  "kernelspec": {
   "display_name": "Python 3",
   "language": "python",
   "name": "python3"
  },
  "language_info": {
   "codemirror_mode": {
    "name": "ipython",
    "version": 3
   },
   "file_extension": ".py",
   "mimetype": "text/x-python",
   "name": "python",
   "nbconvert_exporter": "python",
   "pygments_lexer": "ipython3",
   "version": "3.12.4"
  }
 },
 "nbformat": 4,
 "nbformat_minor": 5
}
