{
 "cells": [
  {
   "cell_type": "markdown",
   "id": "ade52d5a-37bb-435f-b187-7082fbdb5f44",
   "metadata": {},
   "source": [
    "No python existem diversas bibliotecas, um conjunto de funções que facilitam a programação dos desenvolvedores e resolvem problemas sem que o programador precise implementar essa solução.\n",
    "Por padrão o python tem algumas bibliotecas que podem serem importada utilizando o comando from. Mas a comunidade de programadores criam diversas outras bibliotecas que são disponibilizadas através do gerenciador de pacotes do python. "
   ]
  },
  {
   "cell_type": "markdown",
   "id": "b44290b0-1920-4275-9063-a4a532a34877",
   "metadata": {},
   "source": [
    "# Bibliotecas Nativas "
   ]
  },
  {
   "cell_type": "markdown",
   "id": "68199fdc-627e-437f-a587-03210157666c",
   "metadata": {},
   "source": [
    "para importar utilize **from** arquivo **import** classe"
   ]
  },
  {
   "cell_type": "markdown",
   "id": "6ef0a7ea-d57b-4160-a075-fbcdb947a4f6",
   "metadata": {},
   "source": [
    "**datetime** biblioteca para obter informaçõe de data e hora do sistema"
   ]
  },
  {
   "cell_type": "code",
   "execution_count": 26,
   "id": "f1e132c8-049e-4c29-aaa1-6f8524006646",
   "metadata": {},
   "outputs": [
    {
     "data": {
      "text/plain": [
       "datetime.time(17, 3, 49, 191527)"
      ]
     },
     "execution_count": 26,
     "metadata": {},
     "output_type": "execute_result"
    }
   ],
   "source": [
    "from datetime import datetime\n",
    "datetime.now()"
   ]
  },
  {
   "cell_type": "markdown",
   "id": "c6da83ea-148c-4c3b-9814-a17ac81ddcab",
   "metadata": {},
   "source": [
    "Diretriz\tSignificado\n",
    "%d\tDia do mês como um número decimal\n",
    "%H\tHora (relógio de 24 horas) como um número decimal\n",
    "%m\tMês como um número decimal\n",
    "%M\tMinuto como um número decimal\n",
    "%S\tSegundo como um número decimal\n",
    "%Y\tAno com o século como número decimal"
   ]
  },
  {
   "cell_type": "code",
   "execution_count": 28,
   "id": "589fa0e3-e714-4a1f-93e9-db560188b48c",
   "metadata": {},
   "outputs": [
    {
     "data": {
      "text/plain": [
       "'16/08/2024'"
      ]
     },
     "execution_count": 28,
     "metadata": {},
     "output_type": "execute_result"
    }
   ],
   "source": [
    "datetime.now().strftime('%d/%m/%Y')"
   ]
  },
  {
   "cell_type": "code",
   "execution_count": 29,
   "id": "97d0f021-ac1d-4932-a024-b1e36e39d9b6",
   "metadata": {},
   "outputs": [
    {
     "data": {
      "text/plain": [
       "'17:06'"
      ]
     },
     "execution_count": 29,
     "metadata": {},
     "output_type": "execute_result"
    }
   ],
   "source": [
    "datetime.now().strftime('%H:%M')"
   ]
  },
  {
   "cell_type": "markdown",
   "id": "52687096-792c-4ab5-9ed8-f51bc67372b9",
   "metadata": {},
   "source": [
    "***random*** Biblioteca para gerar um numero aleatório"
   ]
  },
  {
   "cell_type": "code",
   "execution_count": 1,
   "id": "d71fe01a-b347-477f-ae16-b2bdab4e864b",
   "metadata": {},
   "outputs": [
    {
     "name": "stdout",
     "output_type": "stream",
     "text": [
      "9 não é 5\n",
      "4 não é 5\n",
      "9 não é 5\n",
      "6 não é 5\n",
      "4 não é 5\n",
      "10 não é 5\n",
      "6 não é 5\n",
      "7 não é 5\n",
      "3 não é 5\n",
      "6 não é 5\n",
      "4 não é 5\n",
      "8 não é 5\n",
      "2 não é 5\n",
      "9 não é 5\n",
      "7 não é 5\n",
      "10 não é 5\n",
      "9 não é 5\n",
      "1 não é 5\n"
     ]
    }
   ],
   "source": [
    "from random import randint\n",
    "numero = randint(1,10)\n",
    "\n",
    "while numero != 5:\n",
    "    print(f'{numero} não é 5')\n",
    "    numero = randint(1,10)"
   ]
  },
  {
   "cell_type": "markdown",
   "id": "90a9f42e-17af-4e74-bb48-fd6eb5684d1e",
   "metadata": {},
   "source": [
    "# Bibliotecas externas\n"
   ]
  },
  {
   "cell_type": "markdown",
   "id": "77ee4f89-4e14-4d30-aa29-d427897a7194",
   "metadata": {},
   "source": [
    "## Nupy"
   ]
  },
  {
   "cell_type": "markdown",
   "id": "f599babf-b0ef-484b-9b26-7fceb087f656",
   "metadata": {},
   "source": [
    "## TensorFlow"
   ]
  },
  {
   "cell_type": "markdown",
   "id": "4d5b47d3-fafd-4f1e-87e6-6ee5047b63eb",
   "metadata": {
    "jp-MarkdownHeadingCollapsed": true
   },
   "source": [
    "## LangChain"
   ]
  },
  {
   "cell_type": "code",
   "execution_count": null,
   "id": "047bb322-4cdd-46e3-9508-e7b7aef00e40",
   "metadata": {},
   "outputs": [],
   "source": []
  }
 ],
 "metadata": {
  "kernelspec": {
   "display_name": "Python 3 (ipykernel)",
   "language": "python",
   "name": "python3"
  },
  "language_info": {
   "codemirror_mode": {
    "name": "ipython",
    "version": 3
   },
   "file_extension": ".py",
   "mimetype": "text/x-python",
   "name": "python",
   "nbconvert_exporter": "python",
   "pygments_lexer": "ipython3",
   "version": "3.12.4"
  }
 },
 "nbformat": 4,
 "nbformat_minor": 5
}
